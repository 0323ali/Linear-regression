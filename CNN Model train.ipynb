{
  "nbformat": 4,
  "nbformat_minor": 0,
  "metadata": {
    "colab": {
      "provenance": [],
      "authorship_tag": "ABX9TyP4zRxRNteHHcQhtCZd84ul",
      "include_colab_link": true
    },
    "kernelspec": {
      "name": "python3",
      "display_name": "Python 3"
    },
    "language_info": {
      "name": "python"
    }
  },
  "cells": [
    {
      "cell_type": "markdown",
      "metadata": {
        "id": "view-in-github",
        "colab_type": "text"
      },
      "source": [
        "<a href=\"https://colab.research.google.com/github/0323ali/Machine-Learning/blob/main/CNN%20Model%20train.ipynb\" target=\"_parent\"><img src=\"https://colab.research.google.com/assets/colab-badge.svg\" alt=\"Open In Colab\"/></a>"
      ]
    },
    {
      "cell_type": "markdown",
      "source": [
        "This model is trained between **circular images and other images(stars,box,triangle)** and trained on very small data\n",
        "just taking 10 images of circle\n",
        "and 10 other images"
      ],
      "metadata": {
        "id": "8-gydMe_SFdq"
      }
    },
    {
      "cell_type": "code",
      "execution_count": 73,
      "metadata": {
        "id": "08IC5plFQkQv",
        "colab": {
          "base_uri": "https://localhost:8080/"
        },
        "outputId": "46a0de43-ad6d-4aa8-d833-cdb5f738f6ad"
      },
      "outputs": [
        {
          "output_type": "stream",
          "name": "stdout",
          "text": [
            "Drive already mounted at /content/drive; to attempt to forcibly remount, call drive.mount(\"/content/drive\", force_remount=True).\n"
          ]
        }
      ],
      "source": [
        "import tensorflow as tf\n",
        "import cv2\n",
        "import os\n",
        "from tensorflow.keras.preprocessing import image\n",
        "from tensorflow.keras.preprocessing.image import ImageDataGenerator\n",
        "import matplotlib.pyplot as plt\n",
        "import numpy as np\n",
        "from google.colab import drive\n",
        "drive.mount('/content/drive')"
      ]
    },
    {
      "cell_type": "code",
      "source": [
        "a=cv2.imread('/content/drive/MyDrive/T/Circle/0.png')\n",
        "a.shape"
      ],
      "metadata": {
        "colab": {
          "base_uri": "https://localhost:8080/"
        },
        "id": "fRWXL5SKTDhC",
        "outputId": "1b98f375-ac85-4b08-8428-f9622a4442da"
      },
      "execution_count": 74,
      "outputs": [
        {
          "output_type": "execute_result",
          "data": {
            "text/plain": [
              "(200, 200, 3)"
            ]
          },
          "metadata": {},
          "execution_count": 74
        }
      ]
    },
    {
      "cell_type": "code",
      "source": [
        "train=ImageDataGenerator(rescale=1/255)\n",
        "validation=ImageDataGenerator(rescale=1/255)"
      ],
      "metadata": {
        "id": "GkMi1yNqTDeg"
      },
      "execution_count": 75,
      "outputs": []
    },
    {
      "cell_type": "code",
      "source": [
        "train_dataset=train.flow_from_directory(\n",
        "    '/content/drive/MyDrive/T',\n",
        "    target_size= (200,200),\n",
        "    batch_size=32,\n",
        "    class_mode='binary')\n",
        "validation_dataset=validation.flow_from_directory(\n",
        "    '/content/drive/MyDrive/T',\n",
        "    target_size= (200,200),\n",
        "    batch_size=32,\n",
        "    class_mode='binary')"
      ],
      "metadata": {
        "colab": {
          "base_uri": "https://localhost:8080/"
        },
        "id": "qyaU8NU0TDca",
        "outputId": "69bce1ee-7923-456f-f212-0a24cada000a"
      },
      "execution_count": 76,
      "outputs": [
        {
          "output_type": "stream",
          "name": "stdout",
          "text": [
            "Found 20 images belonging to 2 classes.\n",
            "Found 20 images belonging to 2 classes.\n"
          ]
        }
      ]
    },
    {
      "cell_type": "code",
      "source": [
        "train_dataset.class_indices"
      ],
      "metadata": {
        "id": "5PsOA7YQTDaO",
        "colab": {
          "base_uri": "https://localhost:8080/"
        },
        "outputId": "84f5e0b5-2c00-4141-fc40-fcb792df8761"
      },
      "execution_count": 77,
      "outputs": [
        {
          "output_type": "execute_result",
          "data": {
            "text/plain": [
              "{'Circle': 0, 'Other': 1}"
            ]
          },
          "metadata": {},
          "execution_count": 77
        }
      ]
    },
    {
      "cell_type": "code",
      "source": [
        "train_dataset.classes"
      ],
      "metadata": {
        "id": "Sw1aECvgTDXt",
        "colab": {
          "base_uri": "https://localhost:8080/"
        },
        "outputId": "7d5cbe33-899f-4de2-9cc7-8b5130c44eed"
      },
      "execution_count": 78,
      "outputs": [
        {
          "output_type": "execute_result",
          "data": {
            "text/plain": [
              "array([0, 0, 0, 0, 0, 0, 0, 0, 0, 0, 1, 1, 1, 1, 1, 1, 1, 1, 1, 1],\n",
              "      dtype=int32)"
            ]
          },
          "metadata": {},
          "execution_count": 78
        }
      ]
    },
    {
      "cell_type": "code",
      "source": [
        "model=tf.keras.models.Sequential([\n",
        "    tf.keras.layers.Conv2D(16,(3,3),activation='relu',input_shape=(200,200,3)),\n",
        "    tf.keras.layers.MaxPool2D(2,2),\n",
        "    tf.keras.layers.Conv2D(32,(3,3),activation='relu',input_shape=(200,200,3)),\n",
        "    tf.keras.layers.MaxPool2D(2,2),\n",
        "    tf.keras.layers.Conv2D(64,(3,3),activation='relu',input_shape=(200,200,3)),\n",
        "    tf.keras.layers.MaxPool2D(2,2),\n",
        "    tf.keras.layers.Flatten(),\n",
        "    tf.keras.layers.Dense(512,activation='relu'),\n",
        "    tf.keras.layers.Dense(1,activation='sigmoid')\n",
        "])"
      ],
      "metadata": {
        "id": "Md90X4Q8TDVZ"
      },
      "execution_count": 79,
      "outputs": []
    },
    {
      "cell_type": "code",
      "source": [
        "model.compile(loss='binary_crossentropy',\n",
        "              optimizer=tf.keras.optimizers.RMSprop(learning_rate=0.001),\n",
        "              metrics=['accuracy'])"
      ],
      "metadata": {
        "id": "gswwMCIjTDTP"
      },
      "execution_count": 80,
      "outputs": []
    },
    {
      "cell_type": "code",
      "source": [
        "model.fit(train_dataset,\n",
        "          steps_per_epoch=1,\n",
        "          epochs=10,\n",
        "          validation_data=validation_dataset)"
      ],
      "metadata": {
        "id": "FlIgqJ0eTDQX",
        "colab": {
          "base_uri": "https://localhost:8080/"
        },
        "outputId": "a485311c-ea87-4150-8fa0-d21dead8685e"
      },
      "execution_count": 81,
      "outputs": [
        {
          "output_type": "stream",
          "name": "stdout",
          "text": [
            "Epoch 1/10\n",
            "1/1 [==============================] - 3s 3s/step - loss: 0.6889 - accuracy: 0.5000 - val_loss: 0.2132 - val_accuracy: 1.0000\n",
            "Epoch 2/10\n",
            "1/1 [==============================] - 2s 2s/step - loss: 0.2132 - accuracy: 1.0000 - val_loss: 22.6951 - val_accuracy: 0.5000\n",
            "Epoch 3/10\n",
            "1/1 [==============================] - 2s 2s/step - loss: 22.6951 - accuracy: 0.5000 - val_loss: 0.6084 - val_accuracy: 0.5000\n",
            "Epoch 4/10\n",
            "1/1 [==============================] - 1s 1s/step - loss: 0.6084 - accuracy: 0.5000 - val_loss: 2.9898 - val_accuracy: 0.5000\n",
            "Epoch 5/10\n",
            "1/1 [==============================] - 1s 1s/step - loss: 2.9898 - accuracy: 0.5000 - val_loss: 0.0847 - val_accuracy: 1.0000\n",
            "Epoch 6/10\n",
            "1/1 [==============================] - 1s 1s/step - loss: 0.0847 - accuracy: 1.0000 - val_loss: 0.1082 - val_accuracy: 1.0000\n",
            "Epoch 7/10\n",
            "1/1 [==============================] - 1s 1s/step - loss: 0.1082 - accuracy: 1.0000 - val_loss: 0.0389 - val_accuracy: 1.0000\n",
            "Epoch 8/10\n",
            "1/1 [==============================] - 1s 1s/step - loss: 0.0389 - accuracy: 1.0000 - val_loss: 0.0163 - val_accuracy: 1.0000\n",
            "Epoch 9/10\n",
            "1/1 [==============================] - 1s 1s/step - loss: 0.0163 - accuracy: 1.0000 - val_loss: 0.0127 - val_accuracy: 1.0000\n",
            "Epoch 10/10\n",
            "1/1 [==============================] - 1s 1s/step - loss: 0.0127 - accuracy: 1.0000 - val_loss: 0.0102 - val_accuracy: 1.0000\n"
          ]
        },
        {
          "output_type": "execute_result",
          "data": {
            "text/plain": [
              "<keras.src.callbacks.History at 0x7d4db42ed1e0>"
            ]
          },
          "metadata": {},
          "execution_count": 81
        }
      ]
    },
    {
      "cell_type": "code",
      "source": [
        "img_path = '/content/drive/MyDrive/T/Circle/0.png'\n",
        "img = image.load_img(img_path, target_size=(200, 200))\n",
        "img_array = image.img_to_array(img)\n",
        "img_array = np.expand_dims(img_array, axis=0)  # Add batch dimension\n",
        "img_array /= 255.0  # Normalize to [0, 1]\n",
        "img_array = load_and_preprocess_image(img_path)\n",
        "prediction = model.predict(img_array)\n",
        "print(\"Prediction:\", prediction)\n",
        "pic=cv2.imread(img_path)\n",
        "plt.imshow(pic)\n",
        "\n",
        "if prediction[0] > 0.5:\n",
        "    print(\"Other image\")\n",
        "else:\n",
        "    print(\"Circle image\")"
      ],
      "metadata": {
        "colab": {
          "base_uri": "https://localhost:8080/",
          "height": 489
        },
        "id": "ibJo58qEMHLK",
        "outputId": "22947c9b-2e9a-402a-dd43-32865eb305cf"
      },
      "execution_count": 82,
      "outputs": [
        {
          "output_type": "stream",
          "name": "stdout",
          "text": [
            "1/1 [==============================] - 0s 102ms/step\n",
            "Prediction: [[0.00662564]]\n",
            "Circle image\n"
          ]
        },
        {
          "output_type": "display_data",
          "data": {
            "text/plain": [
              "<Figure size 640x480 with 1 Axes>"
            ],
            "image/png": "[encoded data removed]"
          },
          "metadata": {}
        }
      ]
    },
    {
      "cell_type": "code",
      "source": [],
      "metadata": {
        "id": "9wr72NIUTDNw"
      },
      "execution_count": 34,
      "outputs": []
    },
    {
      "cell_type": "code",
      "source": [],
      "metadata": {
        "id": "b_oMBLB8TDHI"
      },
      "execution_count": 34,
      "outputs": []
    }
  ]
}