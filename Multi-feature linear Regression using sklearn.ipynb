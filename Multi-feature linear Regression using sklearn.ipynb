{
  "cells": [
    {
      "cell_type": "markdown",
      "metadata": {
        "id": "view-in-github",
        "colab_type": "text"
      },
      "source": [
        "<a href=\"https://colab.research.google.com/github/0323ali/Linear-regression/blob/main/Multi-feature%20linear%20Regression%20using%20sklearn.ipynb\" target=\"_parent\"><img src=\"https://colab.research.google.com/assets/colab-badge.svg\" alt=\"Open In Colab\"/></a>"
      ]
    },
    {
      "cell_type": "code",
      "execution_count": 116,
      "metadata": {
        "colab": {
          "base_uri": "https://localhost:8080/"
        },
        "id": "d4JwHnzMqNcC",
        "outputId": "786660bf-2c23-46e1-ed91-4371a396a28b"
      },
      "outputs": [
        {
          "output_type": "stream",
          "name": "stdout",
          "text": [
            "enter the math score: 72\n",
            "enter the reading score: 70\n",
            "Predicted score is:  [69.22862109]\n",
            "RSME 4.486483709602601\n",
            "R2= 0.9127415011170787\n"
          ]
        }
      ],
      "source": [
        "from sklearn.linear_model import LinearRegression\n",
        "from sklearn.model_selection import train_test_split\n",
        "from sklearn.metrics import mean_squared_error\n",
        "import pandas as pd\n",
        "import numpy as np\n",
        "import matplotlib.pyplot as plt\n",
        "import seaborn as sns\n",
        "data=pd.read_csv('StudentsPerformance.csv')\n",
        "math=data['math score'].values\n",
        "reading=data['reading score'].values\n",
        "writing=data['writing score'].values\n",
        "x=np.array([math,reading]).T\n",
        "y=np.array(writing)\n",
        "m=len(reading)\n",
        "reg=LinearRegression()\n",
        "reg=reg.fit(x,y)\n",
        "m_new=int(input('enter the math score: '))\n",
        "r_new=int(input('enter the reading score: '))\n",
        "y_pred=reg.predict([[m_new,r_new]])\n",
        "print(\"Predicted score is: \",y_pred)\n",
        "Y_pred = reg.predict(x)\n",
        "# Model Evaluation\n",
        "rmse = np.sqrt(mean_squared_error(y, Y_pred))\n",
        "r2 = reg.score(x, y)\n",
        "print('RSME',rmse)\n",
        "print(\"R2=\",r2)"
      ]
    }
  ],
  "metadata": {
    "colab": {
      "provenance": [],
      "authorship_tag": "ABX9TyNTrTSDFtsec2+zyN3sE/eK",
      "include_colab_link": true
    },
    "kernelspec": {
      "display_name": "Python 3",
      "name": "python3"
    },
    "language_info": {
      "name": "python"
    }
  },
  "nbformat": 4,
  "nbformat_minor": 0
}